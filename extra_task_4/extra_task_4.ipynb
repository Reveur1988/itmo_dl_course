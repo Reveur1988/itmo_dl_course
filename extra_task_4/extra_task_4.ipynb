{
 "cells": [
  {
   "cell_type": "code",
   "execution_count": 1,
   "id": "a38cfe7e-c4f1-4fc5-8d32-16136878b379",
   "metadata": {},
   "outputs": [],
   "source": [
    "import evaluate\n",
    "import numpy as np\n",
    "import torch\n",
    "from datasets import load_dataset\n",
    "from transformers import (\n",
    "    AutoModelForSequenceClassification,\n",
    "    AutoTokenizer,\n",
    "    DataCollatorWithPadding,\n",
    "    Trainer,\n",
    "    TrainingArguments,\n",
    ")"
   ]
  },
  {
   "cell_type": "code",
   "execution_count": 2,
   "id": "1162c405-cabc-43a0-b3b8-a94901b0e657",
   "metadata": {},
   "outputs": [],
   "source": [
    "torch.manual_seed(42)\n",
    "device = torch.device(\"cuda\" if torch.cuda.is_available() else \"cpu\")"
   ]
  },
  {
   "cell_type": "markdown",
   "id": "7a2c490f-2c2f-4111-b1f6-cd2f82241925",
   "metadata": {},
   "source": [
    " ## 1. Выбор и загрузка набора данных\n",
    "\n",
    " Для решения задачи классификации текстов выбран датасет IMDB Reviews.\n",
    " Этот набор данных содержит отзывы о фильмах с бинарной разметкой sentiment (positive/negative).\n",
    "\n",
    " В данной работе используется уменьшенная версия датасета (4000 примеров для обучения и 1000 для тестирования) для оптимизации времени выполнения на доступных вычислительных ресурсах. При наличии более мощного GPU или большего времени на обучение было бы целесообразно использовать полный набор данных."
   ]
  },
  {
   "cell_type": "code",
   "execution_count": 3,
   "id": "512c8be5-72df-43c6-80bd-284ff59a1539",
   "metadata": {},
   "outputs": [],
   "source": [
    "dataset = load_dataset(\"imdb\")\n",
    "train_dataset = dataset[\"train\"].shuffle(seed=42).select(range(4000))\n",
    "test_dataset = dataset[\"test\"].shuffle(seed=42).select(range(1000))\n",
    "dataset_sampled = {\"train\": train_dataset, \"test\": test_dataset}"
   ]
  },
  {
   "cell_type": "markdown",
   "id": "ff57538f-602b-46c7-b759-9bc3b9efd077",
   "metadata": {},
   "source": [
    " ## 2. Выбор и подготовка модели\n",
    "\n",
    " В качестве базовой модели выбран DistilBERT - облегченная версия BERT,\n",
    " которая сохраняет 97% производительности оригинальной модели, но работает на 60% быстрее."
   ]
  },
  {
   "cell_type": "code",
   "execution_count": 4,
   "id": "7ad5828d-0916-4458-94ab-c08c58c38a7e",
   "metadata": {},
   "outputs": [],
   "source": [
    "model_checkpoint = \"distilbert-base-uncased\"\n",
    "tokenizer = AutoTokenizer.from_pretrained(model_checkpoint)\n",
    "\n",
    "\n",
    "def tokenize_function(examples):\n",
    "    return tokenizer(\n",
    "        examples[\"text\"], truncation=True, padding=\"max_length\", max_length=256\n",
    "    )"
   ]
  },
  {
   "cell_type": "code",
   "execution_count": 5,
   "id": "98179930-f80d-45dd-a4f3-cbd8fb666185",
   "metadata": {},
   "outputs": [
    {
     "data": {
      "application/vnd.jupyter.widget-view+json": {
       "model_id": "020ef38cf62e40f0ad5504a78f7f3962",
       "version_major": 2,
       "version_minor": 0
      },
      "text/plain": [
       "Map:   0%|          | 0/4000 [00:00<?, ? examples/s]"
      ]
     },
     "metadata": {},
     "output_type": "display_data"
    },
    {
     "data": {
      "application/vnd.jupyter.widget-view+json": {
       "model_id": "8da8a4fb294c436bb24b3f74992f7c4f",
       "version_major": 2,
       "version_minor": 0
      },
      "text/plain": [
       "Map:   0%|          | 0/1000 [00:00<?, ? examples/s]"
      ]
     },
     "metadata": {},
     "output_type": "display_data"
    }
   ],
   "source": [
    "tokenized_datasets = {}\n",
    "for split in dataset_sampled:\n",
    "    tokenized_datasets[split] = dataset_sampled[split].map(\n",
    "        tokenize_function,\n",
    "        batched=True,\n",
    "        remove_columns=[\n",
    "            col for col in dataset_sampled[split].column_names if col not in [\"label\"]\n",
    "        ],\n",
    "    )"
   ]
  },
  {
   "cell_type": "code",
   "execution_count": 6,
   "id": "7a38f4c5-98aa-480b-8175-027460f42492",
   "metadata": {},
   "outputs": [],
   "source": [
    "data_collator = DataCollatorWithPadding(tokenizer=tokenizer)"
   ]
  },
  {
   "cell_type": "markdown",
   "id": "3dd43b1d-5fa5-466f-add5-582c39eadfbf",
   "metadata": {},
   "source": [
    " ## 3. Определение метрик качества\n",
    "\n",
    " Для оценки качества модели используются accuracy и F1-score."
   ]
  },
  {
   "cell_type": "code",
   "execution_count": 7,
   "id": "6a4b0284-2029-4658-a581-fcfdfaf60f7a",
   "metadata": {},
   "outputs": [],
   "source": [
    "accuracy = evaluate.load(\"accuracy\")\n",
    "f1_score = evaluate.load(\"f1\")\n",
    "\n",
    "\n",
    "def compute_metrics(eval_pred):\n",
    "    predictions, labels = eval_pred\n",
    "    predictions = np.argmax(predictions, axis=1)\n",
    "\n",
    "    return {\n",
    "        \"accuracy\": accuracy.compute(predictions=predictions, references=labels)[\n",
    "            \"accuracy\"\n",
    "        ],\n",
    "        \"f1\": f1_score.compute(\n",
    "            predictions=predictions, references=labels, average=\"weighted\"\n",
    "        )[\"f1\"],\n",
    "    }"
   ]
  },
  {
   "cell_type": "code",
   "execution_count": 8,
   "id": "fc4c39c1-fde8-425c-95cc-0cd42cca578e",
   "metadata": {},
   "outputs": [
    {
     "name": "stderr",
     "output_type": "stream",
     "text": [
      "Some weights of DistilBertForSequenceClassification were not initialized from the model checkpoint at distilbert-base-uncased and are newly initialized: ['classifier.bias', 'classifier.weight', 'pre_classifier.bias', 'pre_classifier.weight']\n",
      "You should probably TRAIN this model on a down-stream task to be able to use it for predictions and inference.\n"
     ]
    }
   ],
   "source": [
    "model = AutoModelForSequenceClassification.from_pretrained(\n",
    "    model_checkpoint, num_labels=2\n",
    ")"
   ]
  },
  {
   "cell_type": "markdown",
   "id": "0552b622-39dd-4f62-8e2e-d24c846b1367",
   "metadata": {},
   "source": [
    " ## 4. Оценка исходной модели\n",
    " Измерение качества предобученной модели DistilBERT на тестовой выборке IMDB Reviews до выполнения fine-tuning."
   ]
  },
  {
   "cell_type": "code",
   "execution_count": 9,
   "id": "b2d0b342-b827-4b0b-9e4a-f1d5114773ec",
   "metadata": {},
   "outputs": [
    {
     "name": "stderr",
     "output_type": "stream",
     "text": [
      "/tmp/ipykernel_64956/2559754658.py:1: FutureWarning: `tokenizer` is deprecated and will be removed in version 5.0.0 for `Trainer.__init__`. Use `processing_class` instead.\n",
      "  trainer = Trainer(\n"
     ]
    },
    {
     "data": {
      "text/html": [
       "\n",
       "    <div>\n",
       "      \n",
       "      <progress value='125' max='125' style='width:300px; height:20px; vertical-align: middle;'></progress>\n",
       "      [125/125 00:08]\n",
       "    </div>\n",
       "    "
      ],
      "text/plain": [
       "<IPython.core.display.HTML object>"
      ]
     },
     "metadata": {},
     "output_type": "display_data"
    },
    {
     "name": "stdout",
     "output_type": "stream",
     "text": [
      "Initial metrics: {'eval_loss': 0.6967155933380127, 'eval_model_preparation_time': 0.001, 'eval_accuracy': 0.408, 'eval_f1': 0.404652143178459, 'eval_runtime': 10.3939, 'eval_samples_per_second': 96.211, 'eval_steps_per_second': 12.026}\n"
     ]
    }
   ],
   "source": [
    "trainer = Trainer(\n",
    "    model=model,\n",
    "    eval_dataset=tokenized_datasets[\"test\"],\n",
    "    tokenizer=tokenizer,\n",
    "    data_collator=data_collator,\n",
    "    compute_metrics=compute_metrics,\n",
    ")\n",
    "\n",
    "initial_metrics = trainer.evaluate()\n",
    "print(\"Initial metrics:\", initial_metrics)"
   ]
  },
  {
   "cell_type": "markdown",
   "id": "2c0ad86a-12e9-4335-9083-fee44dd40098",
   "metadata": {},
   "source": [
    " ## 5. Дообучение модели\n",
    "\n",
    " Процесс дообучения (fine-tuning) производится на выборке из 4000 размеченных примеров\n",
    " из датасета IMDB. Используются следующие параметры:\n",
    " - Скорость обучения (learning rate): 2e-5\n",
    " - Размер батча: 32\n",
    " - Количество эпох: 2\n",
    " - L2-регуляризация (weight decay): 0.01\n",
    "\n",
    " На каждой эпохе производится оценка качества на валидационной выборке."
   ]
  },
  {
   "cell_type": "code",
   "execution_count": 10,
   "id": "bbec3432-e95d-47cb-b391-8e554778e024",
   "metadata": {},
   "outputs": [
    {
     "name": "stderr",
     "output_type": "stream",
     "text": [
      "/home/reveur/anaconda3/envs/itmo_dl_course/lib/python3.12/site-packages/transformers/training_args.py:1575: FutureWarning: `evaluation_strategy` is deprecated and will be removed in version 4.46 of 🤗 Transformers. Use `eval_strategy` instead\n",
      "  warnings.warn(\n",
      "/tmp/ipykernel_64956/2691310023.py:15: FutureWarning: `tokenizer` is deprecated and will be removed in version 5.0.0 for `Trainer.__init__`. Use `processing_class` instead.\n",
      "  trainer = Trainer(\n"
     ]
    },
    {
     "data": {
      "text/html": [
       "\n",
       "    <div>\n",
       "      \n",
       "      <progress value='250' max='250' style='width:300px; height:20px; vertical-align: middle;'></progress>\n",
       "      [250/250 10:36, Epoch 2/2]\n",
       "    </div>\n",
       "    <table border=\"1\" class=\"dataframe\">\n",
       "  <thead>\n",
       " <tr style=\"text-align: left;\">\n",
       "      <th>Epoch</th>\n",
       "      <th>Training Loss</th>\n",
       "      <th>Validation Loss</th>\n",
       "      <th>Accuracy</th>\n",
       "      <th>F1</th>\n",
       "    </tr>\n",
       "  </thead>\n",
       "  <tbody>\n",
       "    <tr>\n",
       "      <td>1</td>\n",
       "      <td>0.369700</td>\n",
       "      <td>0.329480</td>\n",
       "      <td>0.858000</td>\n",
       "      <td>0.857508</td>\n",
       "    </tr>\n",
       "    <tr>\n",
       "      <td>2</td>\n",
       "      <td>0.212800</td>\n",
       "      <td>0.292642</td>\n",
       "      <td>0.871000</td>\n",
       "      <td>0.871008</td>\n",
       "    </tr>\n",
       "  </tbody>\n",
       "</table><p>"
      ],
      "text/plain": [
       "<IPython.core.display.HTML object>"
      ]
     },
     "metadata": {},
     "output_type": "display_data"
    },
    {
     "data": {
      "text/plain": [
       "TrainOutput(global_step=250, training_loss=0.3525660514831543, metrics={'train_runtime': 636.8411, 'train_samples_per_second': 12.562, 'train_steps_per_second': 0.393, 'total_flos': 529869594624000.0, 'train_loss': 0.3525660514831543, 'epoch': 2.0})"
      ]
     },
     "execution_count": 10,
     "metadata": {},
     "output_type": "execute_result"
    }
   ],
   "source": [
    "training_args = TrainingArguments(\n",
    "    output_dir=\"distilbert-imdb-classifier\",\n",
    "    learning_rate=2e-5,\n",
    "    per_device_train_batch_size=32,\n",
    "    per_device_eval_batch_size=32,\n",
    "    num_train_epochs=2,\n",
    "    weight_decay=0.01,\n",
    "    evaluation_strategy=\"epoch\",\n",
    "    save_strategy=\"epoch\",\n",
    "    load_best_model_at_end=True,\n",
    "    push_to_hub=False,\n",
    "    logging_steps=50,\n",
    ")\n",
    "\n",
    "trainer = Trainer(\n",
    "    model=model,\n",
    "    args=training_args,\n",
    "    train_dataset=tokenized_datasets[\"train\"],\n",
    "    eval_dataset=tokenized_datasets[\"test\"],\n",
    "    tokenizer=tokenizer,\n",
    "    data_collator=data_collator,\n",
    "    compute_metrics=compute_metrics,\n",
    ")\n",
    "\n",
    "trainer.train()"
   ]
  },
  {
   "cell_type": "code",
   "execution_count": 11,
   "id": "6cbf54f4-c8de-4caf-a92d-61ba908d0dd8",
   "metadata": {},
   "outputs": [
    {
     "data": {
      "text/html": [
       "\n",
       "    <div>\n",
       "      \n",
       "      <progress value='32' max='32' style='width:300px; height:20px; vertical-align: middle;'></progress>\n",
       "      [32/32 00:23]\n",
       "    </div>\n",
       "    "
      ],
      "text/plain": [
       "<IPython.core.display.HTML object>"
      ]
     },
     "metadata": {},
     "output_type": "display_data"
    },
    {
     "name": "stdout",
     "output_type": "stream",
     "text": [
      "\n",
      "Comparison of metrics:\n",
      "Before fine-tuning: {'eval_loss': 0.6967155933380127, 'eval_model_preparation_time': 0.001, 'eval_accuracy': 0.408, 'eval_f1': 0.404652143178459, 'eval_runtime': 10.3939, 'eval_samples_per_second': 96.211, 'eval_steps_per_second': 12.026}\n",
      "After fine-tuning: {'eval_loss': 0.29264160990715027, 'eval_accuracy': 0.871, 'eval_f1': 0.8710081270731437, 'eval_runtime': 24.1998, 'eval_samples_per_second': 41.323, 'eval_steps_per_second': 1.322, 'epoch': 2.0}\n"
     ]
    }
   ],
   "source": [
    "final_metrics = trainer.evaluate()\n",
    "print(\"\\nComparison of metrics:\")\n",
    "print(\"Before fine-tuning:\", initial_metrics)\n",
    "print(\"After fine-tuning:\", final_metrics)"
   ]
  },
  {
   "cell_type": "markdown",
   "id": "08c54f82-c609-4e9e-bbc8-dd7c2b8b55c0",
   "metadata": {},
   "source": [
    " ## 6. Анализ результатов\n",
    "\n",
    " ### Метрики до fine-tuning:\n",
    " - Accuracy: 0.408 (40.8%)\n",
    " - F1-score: 0.405 (40.5%)\n",
    "\n",
    " ### Метрики после fine-tuning:\n",
    " - Accuracy: 0.871 (87.1%)\n",
    " - F1-score: 0.871 (87.1%)\n",
    "\n",
    " ### Выводы:\n",
    " 1. Исходная модель показала низкое качество классификации (около 40%), что ожидаемо, так как она не была обучена на данной задаче.\n",
    " 2. После дообучения качество значительно улучшилось - обе метрики достигли 87%.\n",
    " 3. Равенство метрик accuracy и F1-score говорит о сбалансированности классов в датасете.\n",
    " 4. Достигнутый результат можно считать успешным для задачи бинарной классификации текстов.\n",
    "\n",
    " Таким образом, fine-tuning предобученной модели DistilBERT позволил успешно адаптировать её для решения\n",
    " задачи классификации отзывов IMDB."
   ]
  }
 ],
 "metadata": {
  "kernelspec": {
   "display_name": "itmo_dl_course",
   "language": "python",
   "name": "python3"
  },
  "language_info": {
   "codemirror_mode": {
    "name": "ipython",
    "version": 3
   },
   "file_extension": ".py",
   "mimetype": "text/x-python",
   "name": "python",
   "nbconvert_exporter": "python",
   "pygments_lexer": "ipython3",
   "version": "3.12.8"
  }
 },
 "nbformat": 4,
 "nbformat_minor": 2
}
